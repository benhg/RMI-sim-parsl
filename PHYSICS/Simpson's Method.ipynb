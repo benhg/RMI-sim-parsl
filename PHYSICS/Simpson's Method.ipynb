{
 "cells": [
  {
   "cell_type": "code",
   "execution_count": 32,
   "metadata": {},
   "outputs": [
    {
     "name": "stdout",
     "output_type": "stream",
     "text": [
      "6.283185851470373\n"
     ]
    }
   ],
   "source": [
    "import numpy as np\n",
    "\n",
    "N = 100\n",
    "L = np.pi\n",
    "h = (2 * L) / N\n",
    "\n",
    "def u(x):\n",
    "    return x * np.sin(x)\n",
    "\n",
    "def simpInt(f, a, b):\n",
    "    global N, h\n",
    "    s = f(a) + f(b)\n",
    "    s1 = 0\n",
    "    for k in range(1, N, 2):\n",
    "        s1 += f(a + k * h)\n",
    "    s2 = 0\n",
    "    for k in range(2, N - 1, 2):\n",
    "        s2 += f(a + k * h)\n",
    "    s += 4 * s1 + 2 * s2\n",
    "    return (h / 3) * s\n",
    "\n",
    "I = simpInt(u, -L, L)\n",
    "print(I)\n",
    "\n"
   ]
  },
  {
   "cell_type": "code",
   "execution_count": null,
   "metadata": {},
   "outputs": [],
   "source": []
  },
  {
   "cell_type": "code",
   "execution_count": null,
   "metadata": {},
   "outputs": [],
   "source": []
  }
 ],
 "metadata": {
  "kernelspec": {
   "display_name": "Python 3",
   "language": "python",
   "name": "python3"
  },
  "language_info": {
   "codemirror_mode": {
    "name": "ipython",
    "version": 3
   },
   "file_extension": ".py",
   "mimetype": "text/x-python",
   "name": "python",
   "nbconvert_exporter": "python",
   "pygments_lexer": "ipython3",
   "version": "3.6.4"
  }
 },
 "nbformat": 4,
 "nbformat_minor": 2
}
