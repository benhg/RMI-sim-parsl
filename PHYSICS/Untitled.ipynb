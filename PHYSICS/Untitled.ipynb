{
 "cells": [
  {
   "cell_type": "code",
   "execution_count": null,
   "metadata": {},
   "outputs": [],
   "source": [
    "G = 6.674e-11\n",
    "N = 100\n",
    "sigma = 100\n",
    "L = 10\n",
    "\n",
    "f = lambda x, y, z: (x ** 2 + y ** 2 + z ** 2) ** (-3 / 2)\n",
    "\n",
    "def 2DsimpInt(f, a, b, c, d):\n",
    "    global N, h\n",
    "    s = f(a) + f(b) + f(c) + f(d)\n",
    "    for i in range(1, N, 2):\n",
    "    for k in range(1, N, 2):\n",
    "        s1 += f(a + k * h)\n",
    "    s2 = 0\n",
    "    for k in range(2, N - 1, 2):\n",
    "        s2 += f(a + k * h)\n",
    "    s += 4 * s1 + 2 * s2\n",
    "    return (h / 3) * s"
   ]
  }
 ],
 "metadata": {
  "kernelspec": {
   "display_name": "Python 3",
   "language": "python",
   "name": "python3"
  },
  "language_info": {
   "codemirror_mode": {
    "name": "ipython",
    "version": 3
   },
   "file_extension": ".py",
   "mimetype": "text/x-python",
   "name": "python",
   "nbconvert_exporter": "python",
   "pygments_lexer": "ipython3",
   "version": "3.6.4"
  }
 },
 "nbformat": 4,
 "nbformat_minor": 2
}
