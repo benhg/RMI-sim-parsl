{
 "cells": [
  {
   "cell_type": "code",
   "execution_count": 37,
   "metadata": {},
   "outputs": [
    {
     "data": {
      "image/png": "[encoded data removed]",
      "text/plain": [
       "<Figure size 432x288 with 1 Axes>"
      ]
     },
     "metadata": {
      "needs_background": "light"
     },
     "output_type": "display_data"
    }
   ],
   "source": [
    "import numpy as np\n",
    "import matplotlib.pyplot as plt\n",
    "\n",
    "n = 100\n",
    "L = np.pi\n",
    "xpts = np.linspace(-L, L, N)\n",
    "\n",
    "def u(x):\n",
    "    return x ** 3\n",
    "\n",
    "def ak(x, k):\n",
    "    global L\n",
    "    return np.cos(k * np.pi * x / L) * u(x)\n",
    "\n",
    "def bk(x, k):\n",
    "    global L\n",
    "    return np.sin(k * np.pi * x / L) * u(x)\n",
    "\n",
    "def simpInt(f, a, b):\n",
    "    N = 1000\n",
    "    h = abs(b - a) / N\n",
    "    s = f(a) + f(b)\n",
    "    s1 = 0\n",
    "    for k in range(1, N, 2):\n",
    "        s1 += f(a + k * h)\n",
    "    s2 = 0\n",
    "    for k in range(2, N - 1, 2):\n",
    "        s2 += f(a + k * h)\n",
    "    s += 4 * s1 + 2 * s2\n",
    "    return (h / 3) * s\n",
    "\n",
    "def fourierInt(f, a, b, l):\n",
    "    N = 1000\n",
    "    h = abs(b - a) / N\n",
    "    s = f(a, l) + f(b, l)\n",
    "    s1 = 0\n",
    "    for k in range(1, N, 2):\n",
    "        s1 += f(a + k * h, l)\n",
    "    s2 = 0\n",
    "    for k in range(2, N - 1, 2):\n",
    "        s2 += f(a + k * h, l)\n",
    "    s += 4 * s1 + 2 * s2\n",
    "    return (h / 3) * s\n",
    "\n",
    "def fourierCoeff(f, a, b):\n",
    "    global n, xpts\n",
    "    akpts = []\n",
    "    bkpts = []\n",
    "    for i in range(1, n + 1):\n",
    "        akpts.append(fourierInt(ak, -L, L, i) / L)\n",
    "        bkpts.append(fourierInt(bk, -L, L, i) / L)\n",
    "    a0 = simpInt(u, -L, L) / (2 * L)\n",
    "    un = []\n",
    "    for i in xpts:\n",
    "        uni = a0\n",
    "        for j in range(1, n + 1):\n",
    "            uni += akpts[j - 1] * np.cos(j * i * np.pi / L) + bkpts[j - 1] * np.sin(j * i * np.pi / L)\n",
    "        un.append(uni)\n",
    "    return un\n",
    "\n",
    "soln = list(map(u, xpts))\n",
    "fou = fourierCoeff(u, -L, L)\n",
    "plt.plot(xpts, soln, 'k', label=\"Analytic Solution\")\n",
    "plt.plot(xpts, fou, 'b', label=\"Fourier Transform\")\n",
    "plt.xlabel(\"x\")\n",
    "plt.ylabel(\"u\")\n",
    "plt.title(\"1D-Fourier Transform\")\n",
    "plt.legend()\n",
    "plt.show()"
   ]
  },
  {
   "cell_type": "code",
   "execution_count": null,
   "metadata": {},
   "outputs": [],
   "source": []
  },
  {
   "cell_type": "code",
   "execution_count": null,
   "metadata": {},
   "outputs": [],
   "source": []
  }
 ],
 "metadata": {
  "kernelspec": {
   "display_name": "Python 3",
   "language": "python",
   "name": "python3"
  },
  "language_info": {
   "codemirror_mode": {
    "name": "ipython",
    "version": 3
   },
   "file_extension": ".py",
   "mimetype": "text/x-python",
   "name": "python",
   "nbconvert_exporter": "python",
   "pygments_lexer": "ipython3",
   "version": "3.6.4"
  }
 },
 "nbformat": 4,
 "nbformat_minor": 2
}
